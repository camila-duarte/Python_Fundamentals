{
 "cells": [
  {
   "cell_type": "markdown",
   "metadata": {},
   "source": [
    "# Condicionales - if, elif, else\n",
    "\n",
    "if → si\n",
    "\n",
    "elif → si no, pero si\n",
    "\n",
    "else → si no\n",
    "\n",
    ">`if` *condicion*:\n",
    "\n",
    ">>accion que se cumplira en caso de que la condicion dada se cumpla\n",
    "\n",
    ">`elif` *condicion*:\n",
    "\n",
    ">>accion que se cumplira en caso de que la condicion anterior no se cumpla pero esta si\n",
    "\n",
    ">`else:`\n",
    "\n",
    ">>accion que se realizara por default si no se cumplen las primeras\n",
    "\n",
    "frio → temperatura actual menor  10 grados → temperatura_actual < 10\n",
    "\n",
    "refresca → temperatura actual es mayor a 10 grados pero menor a 20 grados → 10 < temperatura_actual < 20 → temperatura_actual > 10 and temperatura_actual < 20\n",
    "\n",
    "calor → temperatura es mayor 20 grados → temperatura_actual >20\n",
    "\n",
    "temperatura_actual = int(input(”Ingresar la temperatura: ”))\n",
    "\n",
    ">`if` temperatura_actual < 10:\n",
    "\n",
    ">>print(”hace mucho frio”)\n",
    "\n",
    ">`elif` 10 < temperatura_actual < 20:\n",
    "\n",
    ">>print(”Hace frio”)\n",
    "\n",
    ">`else:`\n",
    "\n",
    ">>print(”hace calor”)"
   ]
  },
  {
   "cell_type": "code",
   "execution_count": null,
   "metadata": {},
   "outputs": [],
   "source": []
  }
 ],
 "metadata": {
  "language_info": {
   "name": "python"
  },
  "orig_nbformat": 4
 },
 "nbformat": 4,
 "nbformat_minor": 2
}
