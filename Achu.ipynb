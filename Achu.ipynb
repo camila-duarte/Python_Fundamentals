{
 "cells": [
  {
   "cell_type": "markdown",
   "metadata": {},
   "source": [
    "### Intro\n",
    "\n",
    "DRY: Don’t Repeat Yourself, no hagas el mismo trabajo dos veces, principio de evitar la repeticion."
   ]
  },
  {
   "cell_type": "markdown",
   "metadata": {},
   "source": [
    "# Funciones\n",
    "\n",
    "Las funciones son un conjunto de instrucciones de una operacion que quisieramos volver a repetir en diferentes partes de nuestro programa.\n",
    "\n",
    "Ya estuvimos trabajando con funciones como type(), print()"
   ]
  },
  {
   "cell_type": "markdown",
   "metadata": {},
   "source": [
    "### Creating a Function\n",
    "\n",
    "*NO CORRER CODIGO AUN*"
   ]
  },
  {
   "cell_type": "code",
   "execution_count": 6,
   "metadata": {},
   "outputs": [],
   "source": [
    "# In Python a function is defined using the def keyword:\n",
    "# Quiero crear un programa que le salude al usuario cada vez que inicie sesion\n",
    "def saludar(): #definimos la funcion saludar, con el nombre 'saludar', y la sintaxis considera dos puntos\n",
    "    print(\"Hola, Usuario!\") #dentro de la funcion saludar, imprimimos el texto "
   ]
  },
  {
   "cell_type": "markdown",
   "metadata": {},
   "source": [
    "<center>Explicar que es un bloque y que es un indentado.</center>\n",
    "<center>\n",
    "El espacio al inicio de una linea de codigo\n",
    "</center>\n",
    "<center>\n",
    "Se utiliza para indicar un nuevo bloque de codigo\n",
    "</center>\n",
    "\n",
    "*Correr el codigo AHORA*"
   ]
  },
  {
   "cell_type": "markdown",
   "metadata": {},
   "source": [
    "A function is a block of code which only runs when it is called."
   ]
  },
  {
   "cell_type": "markdown",
   "metadata": {},
   "source": [
    "### Calling a Function"
   ]
  },
  {
   "cell_type": "code",
   "execution_count": 7,
   "metadata": {},
   "outputs": [
    {
     "name": "stdout",
     "output_type": "stream",
     "text": [
      "Hola, soy una función\n"
     ]
    }
   ],
   "source": [
    "def saludar(): #definimos la funcion saludar, con el nombre 'saludar', y la sintaxis considera dos puntos\n",
    "    print(\"Hola, soy una función\") #dentro de la funcion saludar, imprimimos el texto \"Hola, soy una funcion\"\n",
    "saludar() #llamamos a la funcion saludar, para que se ejecute el codigo que esta dentro de la funcion"
   ]
  },
  {
   "cell_type": "markdown",
   "metadata": {},
   "source": [
    "# Alcance (Scope o ambito de una varieble)"
   ]
  },
  {
   "cell_type": "markdown",
   "metadata": {},
   "source": [
    "### Explicacion\n",
    "\n",
    "Variables that are created outside of a function (as in all of the examples above) are known as global variables.\n",
    "\n",
    "Global variables can be used by everyone, both inside of functions and outside."
   ]
  },
  {
   "cell_type": "code",
   "execution_count": 8,
   "metadata": {},
   "outputs": [
    {
     "name": "stdout",
     "output_type": "stream",
     "text": [
      "Python is awesome\n"
     ]
    }
   ],
   "source": [
    "x = \"awesome\"\n",
    "\n",
    "def myfunc():\n",
    "  print(\"Python is \" + x)\n",
    "\n",
    "myfunc()"
   ]
  },
  {
   "cell_type": "markdown",
   "metadata": {},
   "source": [
    "Las variables locales no pueden accederse fuera de la función."
   ]
  },
  {
   "cell_type": "code",
   "execution_count": 9,
   "metadata": {},
   "outputs": [
    {
     "name": "stdout",
     "output_type": "stream",
     "text": [
      "Python is Purete\n",
      "awesome\n"
     ]
    }
   ],
   "source": [
    "# Create a variable inside a function, with the same name as the global variable\n",
    "x = \"awesome\"\n",
    "\n",
    "def myfunc():\n",
    "  x = \"Purete\"\n",
    "  print(\"Python is \" + x)\n",
    "\n",
    "myfunc()\n",
    "print(x)"
   ]
  },
  {
   "cell_type": "markdown",
   "metadata": {},
   "source": [
    "### Keyword global"
   ]
  },
  {
   "cell_type": "code",
   "execution_count": 14,
   "metadata": {},
   "outputs": [
    {
     "name": "stdout",
     "output_type": "stream",
     "text": [
      "Tu mama\n",
      "Tu mama\n"
     ]
    }
   ],
   "source": [
    "# If you use the global keyword, the variable belongs to the global scope:\n",
    "def mi_funcion():\n",
    "    global msj \n",
    "    msj = \"Tu mama\"\n",
    "    print(msj)\n",
    "\n",
    "mi_funcion()\n",
    "print(msj)"
   ]
  },
  {
   "cell_type": "markdown",
   "metadata": {},
   "source": [
    "### Return"
   ]
  },
  {
   "cell_type": "markdown",
   "metadata": {},
   "source": [
    "Aqui deberia ir la explicacion de return si tan solo tuviera una explicacion para return"
   ]
  },
  {
   "cell_type": "markdown",
   "metadata": {},
   "source": [
    "# Parametros y Argumentos"
   ]
  },
  {
   "cell_type": "code",
   "execution_count": 19,
   "metadata": {},
   "outputs": [
    {
     "name": "stdout",
     "output_type": "stream",
     "text": [
      "Hola, Diego!\n",
      "Hola, Pao!\n"
     ]
    }
   ],
   "source": [
    "# Un parámetro es una variable que aparece dentro del parentesis de la función espera recibir.\n",
    "\n",
    "def saludar_user(Usuario):\n",
    "    print('Hola, ' + Usuario + '!')\n",
    "\n",
    "# Argumentos: es el valor que se envia a la funcion cuando es llamada.\n",
    "saludar_user('Diego')\n",
    "saludar_user('Pao')\n"
   ]
  },
  {
   "cell_type": "markdown",
   "metadata": {},
   "source": [
    "### Keyword Arguments"
   ]
  },
  {
   "cell_type": "code",
   "execution_count": 25,
   "metadata": {},
   "outputs": [
    {
     "name": "stdout",
     "output_type": "stream",
     "text": [
      "kill Bachi Nunez\n",
      "Marry Lugo\n",
      "Hold hands Sol Cartes\n"
     ]
    }
   ],
   "source": [
    "def mis_participantes(alum1, alum2, alum3):\n",
    "    print(\"kill \" + alum1)\n",
    "    print(\"Marry \" + alum2)\n",
    "    print(\"Hold hands \" + alum3)\n",
    "\n",
    "mis_participantes(alum3 = \"Sol Cartes\", alum1 = \"Bachi Nunez\", alum2 = \"Lugo\")"
   ]
  }
 ],
 "metadata": {
  "kernelspec": {
   "display_name": "Python 3",
   "language": "python",
   "name": "python3"
  },
  "language_info": {
   "codemirror_mode": {
    "name": "ipython",
    "version": 3
   },
   "file_extension": ".py",
   "mimetype": "text/x-python",
   "name": "python",
   "nbconvert_exporter": "python",
   "pygments_lexer": "ipython3",
   "version": "3.10.6"
  },
  "orig_nbformat": 4
 },
 "nbformat": 4,
 "nbformat_minor": 2
}
